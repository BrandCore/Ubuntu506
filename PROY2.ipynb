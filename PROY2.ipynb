{
 "cells": [
  {
   "cell_type": "raw",
   "id": "11939daa-c8e9-4f02-9e2d-7c3b1d473db2",
   "metadata": {},
   "source": [
    "Person Class\n",
    "\n",
    "attributes (Variables)\n",
    "\tID - Identification - Integer\n",
    "\tAge - Demographics - Integer\n",
    "\tDays Sick - Number of Days Sick - Integer\n",
    "\tStatus - current status - String\n",
    "\t\t\tSusceptible\n",
    "\t\t\tInfected\n",
    "\t\t\tRecovered\n",
    "\t\t\tImmunize\n",
    "\tRiskOfInfection - Infection Rate - Integer\n",
    "\tInteractions [] - List\n",
    "\t\n",
    "Methods/Behaviors - Actions (Functions)\n",
    "\tInfect - we need to infect the Person\n",
    "\tRecover - recover Person\n",
    "\tUpdate - Update them/Check their status everyday\n",
    "\tRollForInfection - Roll the dice to see if they get sick\n",
    "\tGetStatus - return their current status\n"
   ]
  },
  {
   "cell_type": "markdown",
   "id": "1f8acca7-e452-4872-aa75-801e3c6e1555",
   "metadata": {},
   "source": [
    "### I am importing random for random number to determine if someone gets sick or not"
   ]
  },
  {
   "cell_type": "code",
   "execution_count": 11,
   "id": "2ce9f416-78da-489b-aa81-42d91ae92589",
   "metadata": {},
   "outputs": [],
   "source": [
    "import random"
   ]
  },
  {
   "cell_type": "markdown",
   "id": "bd9bbc6a-38c5-4033-9d23-e4aabbfd0730",
   "metadata": {},
   "source": [
    "### let's design our Person class with attributes listed above and methods listed above\n",
    "Person Object"
   ]
  },
  {
   "cell_type": "code",
   "execution_count": 47,
   "id": "f00e3d6c-9ec8-4530-9655-6e623e54b2f0",
   "metadata": {},
   "outputs": [],
   "source": [
    "class Person(object):\n",
    "    def __init__(self, default_days_sick = 5, default_infection_rate = 10, vac = False, cant_vacs = 0, default_max_vac = 4):\n",
    "        self.ID = 0\n",
    "        self.age = 0\n",
    "        self.status = \"Susceptible\"\n",
    "        self.days_sick = 0\n",
    "        self.max_days_sick = default_days_sick\n",
    "        self.infection_rate = default_infection_rate\n",
    "        self.interactions = []\n",
    "        self.is_vac = vac\n",
    "        self.cant_vacs = cant_vacs\n",
    "        self.max_vac = default_max_vac \n",
    "        \n",
    "        if (self.is_vac):\n",
    "            self.infection_rate = self.infection_rate/2\n",
    "        \n",
    "    def set_is_vac(self, vac, cant_vacs):\n",
    "        self.is_vac = vac\n",
    "        \n",
    "        if (self.is_vac):\n",
    "            self.cant_vacs = cant_vacs + 1\n",
    "            self.infection_rate = self.infection_rate/(2*self.cant_vacs)\n",
    "            \n",
    "    def get_is_vac(self):\n",
    "        return self.is_vac\n",
    "    \n",
    "    def get_cant_vacs(self):\n",
    "        return self.cant_vacs\n",
    "        \n",
    "    def set_infection_rate(self, new_rate):\n",
    "        self.infection_rate = new_rate\n",
    "    \n",
    "    def infect(self, number_of_days):\n",
    "        self.days_sick = number_of_days\n",
    "        self.status = \"Infected\"\n",
    "        \n",
    "    def recover(self):\n",
    "        self.days_sick = 0\n",
    "        self.status = \"Recovered\"\n",
    "        \n",
    "    def roll_for_infection(self):\n",
    "        if (random.randint(0,101) < self.infection_rate):\n",
    "            self.infect(self.max_days_sick)\n",
    "            \n",
    "    def get_status(self):\n",
    "        return self.status\n",
    "    \n",
    "    def get_days_sick(self):\n",
    "        return self.days_sick\n",
    "    \n",
    "    def update(self):\n",
    "        if (self.status == \"Susceptible\"):\n",
    "            self.roll_for_infection()\n",
    "            \n",
    "        elif (self.status == \"Infected\"):\n",
    "            self.days_sick = self.days_sick - 1\n",
    "            if (self.days_sick <= 0):\n",
    "                self.recover()\n",
    "                \n",
    "                \n",
    "    \n",
    "    "
   ]
  },
  {
   "cell_type": "code",
   "execution_count": 9,
   "id": "652fd000-36a0-4d14-bf95-95eecdf27960",
   "metadata": {},
   "outputs": [
    {
     "name": "stdout",
     "output_type": "stream",
     "text": [
      "Joe is currently: Susceptible Joe has been sick for 0  days\n"
     ]
    }
   ],
   "source": [
    "Joe = Person()\n",
    "print (\"Joe is currently:\", Joe.get_status(), \"Joe has been sick for\", Joe.get_days_sick(), \" days\")"
   ]
  },
  {
   "cell_type": "code",
   "execution_count": 5,
   "id": "9c4cf5d7-1518-469a-b222-2c75c19efa33",
   "metadata": {},
   "outputs": [],
   "source": [
    "Joe.infect(30)"
   ]
  },
  {
   "cell_type": "code",
   "execution_count": 6,
   "id": "6c6e9b9a-63e4-4686-85d9-d3c2d9beb90b",
   "metadata": {},
   "outputs": [
    {
     "name": "stdout",
     "output_type": "stream",
     "text": [
      "Joe is currently: Infected , Joe will be sick for 30  days\n"
     ]
    }
   ],
   "source": [
    "print (\"Joe is currently:\", Joe.get_status(), \", Joe will be sick for\", Joe.get_days_sick(), \" days\")"
   ]
  },
  {
   "cell_type": "code",
   "execution_count": 12,
   "id": "a5a83c03-899b-4ab3-8df6-2798fb522437",
   "metadata": {},
   "outputs": [
    {
     "name": "stdout",
     "output_type": "stream",
     "text": [
      "Day 1\n",
      "Joe is currently: Susceptible , Joe will be sick for 0  days\n",
      "Day 2\n",
      "Joe is currently: Susceptible , Joe will be sick for 0  days\n",
      "Day 3\n",
      "Joe is currently: Susceptible , Joe will be sick for 0  days\n",
      "Day 4\n",
      "Joe is currently: Susceptible , Joe will be sick for 0  days\n",
      "Day 5\n",
      "Joe is currently: Infected , Joe will be sick for 5  days\n",
      "Day 6\n",
      "Joe is currently: Infected , Joe will be sick for 4  days\n",
      "Day 7\n",
      "Joe is currently: Infected , Joe will be sick for 3  days\n",
      "Day 8\n",
      "Joe is currently: Infected , Joe will be sick for 2  days\n",
      "Day 9\n",
      "Joe is currently: Infected , Joe will be sick for 1  days\n",
      "Day 10\n",
      "Joe is currently: Recovered , Joe will be sick for 0  days\n"
     ]
    }
   ],
   "source": [
    "day = 0\n",
    "Joe = Person()\n",
    "\n",
    "while (Joe.get_status() != \"Recovered\"):\n",
    "    day = day + 1\n",
    "    Joe.update()\n",
    "    print (\"Day\", day)\n",
    "    print (\"Joe is currently:\", Joe.get_status(), \", Joe will be sick for\", Joe.get_days_sick(), \" days\")"
   ]
  },
  {
   "cell_type": "markdown",
   "id": "13e0658f-6c93-4734-9bd6-a930a8074294",
   "metadata": {},
   "source": [
    "### Something is still not quite right, the code works\n",
    "### but there's still too much going on\n",
    "---"
   ]
  },
  {
   "cell_type": "markdown",
   "id": "c11ca63e-390e-4fc5-b3f6-70edbbdda475",
   "metadata": {},
   "source": [
    "#### We need a Population Class"
   ]
  },
  {
   "cell_type": "raw",
   "id": "d5e2010c-000d-4665-a0f8-14d79ce4d85b",
   "metadata": {},
   "source": [
    "Population Class - Brainstorm:\n",
    "\n",
    "Attributes:\n",
    "    number of People\n",
    "    vector of Person Objects\n",
    "    default_days_sick\n",
    "    default_infection_rate\n",
    "    number_of_interactions\n",
    "\n",
    "Each Person interacts with 10 people\n",
    "If a Person is Infected, each Susceptible Person they interact with has to roll to see if they get Infected\n",
    "\n",
    "If a Person is Susceptible, and they interact with an Infected Person, then the Susceptible Person needs to roll to see if they get Infected\n",
    "\n",
    "Methods:\n",
    "    Number of People Susceptible\n",
    "    Number of People Infected\n",
    "    Number of People Recovered\n",
    "    \n",
    "    Update() - update every Person in our population "
   ]
  },
  {
   "cell_type": "markdown",
   "id": "b1c7226e-ec24-472b-950e-39df58bb2dda",
   "metadata": {},
   "source": [
    "## Population Object"
   ]
  },
  {
   "cell_type": "code",
   "execution_count": 91,
   "id": "56d90ad1-ecbe-41d3-9153-aa092446be67",
   "metadata": {},
   "outputs": [],
   "source": [
    "class Population(object):\n",
    "    def __init__(self, number_of_people=1000, default_interactions=10, default_days_sick=5,\n",
    "                 default_infection_rate=10, default_percentage_vac=0, default_max_vac = 4):\n",
    "        self.People = []\n",
    "        self.population_count = number_of_people\n",
    "        self.number_of_interactions = default_interactions\n",
    "        self.max_days_sick = default_days_sick\n",
    "        self.infection_rate = default_infection_rate\n",
    "        self.max_vac = default_max_vac\n",
    "        self.number_vac = number_of_people*(default_percentage_vac/100)\n",
    "        \n",
    "        \n",
    "        ## set Patient_Zero aka The Jerk\n",
    "        patient_zero = Person()\n",
    "        patient_zero.infect(self.max_days_sick)\n",
    "        \n",
    "        ## add patient_zero to our People[]\n",
    "        \n",
    "        self.People.append(patient_zero)\n",
    "        \n",
    "        ## build the rest of our Population #######################################################     \n",
    "        for i in range(0, self.population_count):\n",
    "            new_person = Person()\n",
    "            if (i <= self.number_vac/4):\n",
    "                new_person.set_is_vac(True, new_person.get_cant_vacs())\n",
    "                            \n",
    "            elif(i > self.number_vac/4 and i <= self.number_vac/2):\n",
    "                new_person.set_is_vac(True, new_person.get_cant_vacs())\n",
    "                new_person.set_is_vac(True, new_person.get_cant_vacs())\n",
    "                \n",
    "            elif(i > self.number_vac/2 and i <= self.number_vac):\n",
    "                new_person.set_is_vac(True, new_person.get_cant_vacs())\n",
    "                new_person.set_is_vac(True, new_person.get_cant_vacs())\n",
    "                new_person.set_is_vac(True, new_person.get_cant_vacs())\n",
    "            \n",
    "             \n",
    "            self.People.append(new_person)   \n",
    "            \n",
    "            \n",
    "    #return mumber of people vaccineted\n",
    "    def get_number_vac(self):\n",
    "        return self.number_vac;\n",
    "    \n",
    "    def get_number_vac_infected(self):\n",
    "        count = 0\n",
    "        \n",
    "        for the_person in self.People:\n",
    "            if (the_person.get_status() == \"Infected\" and the_person.get_is_vac() == True):\n",
    "                count = count + 1\n",
    "        \n",
    "        return count\n",
    "    \n",
    "    ####\n",
    "    \n",
    "    def get_people_one_vac(self):\n",
    "        count = 0\n",
    "        \n",
    "        for the_person in self.People:\n",
    "            if (the_person.get_is_vac() == True and the_person.get_cant_vacs() == 1):\n",
    "                count = count + 1\n",
    "        \n",
    "        return count\n",
    "########################################################################\n",
    "    def get_people_two_vac(self):\n",
    "        count = 0\n",
    "        \n",
    "        for the_person in self.People:\n",
    "            if (the_person.get_is_vac() == True and the_person.get_cant_vacs() == 2):\n",
    "                count = count + 1\n",
    "        \n",
    "        return count\n",
    "    ######\n",
    "    def get_people_three_vac(self):\n",
    "        count = 0\n",
    "        \n",
    "        for the_person in self.People:\n",
    "            if (the_person.get_is_vac() == True and the_person.get_cant_vacs() == 3):\n",
    "                count = count + 1\n",
    "        \n",
    "        return count\n",
    "    \n",
    "    \n",
    "    ##go through our population, and count each person that's susceptible\n",
    "    def number_of_susceptible(self):\n",
    "        count = 0\n",
    "        \n",
    "        for the_person in self.People:\n",
    "            if (the_person.get_status() == \"Susceptible\"):\n",
    "                count = count + 1\n",
    "        \n",
    "        return count\n",
    "    \n",
    "    ##go through the population, and count each person that's infected\n",
    "    def number_of_infected(self):\n",
    "        count = 0\n",
    "        \n",
    "        for the_person in self.People:\n",
    "            if (the_person.get_status() == \"Infected\"):\n",
    "                count = count + 1\n",
    "        \n",
    "        return count\n",
    "    \n",
    "    ##go through the population, and count each person that's recovered\n",
    "    def number_of_recovered(self):\n",
    "        count = 0\n",
    "        \n",
    "        for the_person in self.People:\n",
    "            if (the_person.get_status() == \"Recovered\"):\n",
    "                count = count + 1\n",
    "                \n",
    "        return count\n",
    "    \n",
    "    ##Total Population\n",
    "    def get_population_count(self):\n",
    "        return len(self.People)\n",
    "    \n",
    "    \n",
    "    def update(self):\n",
    "        \n",
    "        ##we're going to make a list of People who might get\n",
    "        ##infected at the end of the day\n",
    "        \n",
    "        might_get_sick = []\n",
    "        \n",
    "        ## go through my Population and see who might get sick\n",
    "        for person in self.People:\n",
    "            person.interactions = []\n",
    "            \n",
    "            ## each person inteteracts w/ number_of_interaction number of people\n",
    "            \n",
    "            for i in range(0, self.number_of_interactions):\n",
    "                r = random.randint(0, self.population_count)\n",
    "                person.interactions.append(r)\n",
    "            \n",
    "            ## if person is infected, their interactions might get infected\n",
    "            if (person.get_status() == \"Infected\"):\n",
    "                ##????? really????\n",
    "                person.update()\n",
    "                \n",
    "                for j in person.interactions:\n",
    "                    if (self.People[j].get_status() == \"Susceptible\"):\n",
    "                        might_get_sick.append(self.People[j])\n",
    "            \n",
    "            ## if person is susceptible, they interact w/ someone infected\n",
    "            if (person.get_status() == \"Susceptible\"):\n",
    "                for j in person.interactions:\n",
    "                    if (self.People[j].get_status() == \"Infected\"):\n",
    "                        might_get_sick.append(person)\n",
    "                        \n",
    "        ##the above updates each person who is infected\n",
    "        ##I have a list of people who **might** get infected\n",
    "        ##each person in that list, has to roll to get infected\n",
    "        \n",
    "        for person in might_get_sick:\n",
    "            person.roll_for_infection()\n",
    "            \n",
    "            \n",
    "    def get_population_list(self):\n",
    "        return self.People\n",
    "    "
   ]
  },
  {
   "cell_type": "markdown",
   "id": "3e891382-8e29-454a-ad57-80225f70dd94",
   "metadata": {},
   "source": [
    "### Our Main Code!\n",
    " Community Object "
   ]
  },
  {
   "cell_type": "code",
   "execution_count": 68,
   "id": "f595f5eb-fc77-4864-9bcf-22e6451269a6",
   "metadata": {},
   "outputs": [
    {
     "name": "stdout",
     "output_type": "stream",
     "text": [
      "day: 0 infected: recovered: 0\n",
      "day: 1 infected: recovered: 0\n",
      "day: 2 infected: recovered: 0\n",
      "day: 3 infected: recovered: 0\n",
      "day: 4 infected: recovered: 0\n",
      "day: 5 infected: recovered: 1\n",
      "day: 6 infected: recovered: 2\n",
      "day: 7 infected: recovered: 3\n",
      "day: 8 infected: recovered: 7\n",
      "day: 9 infected: recovered: 12\n",
      "day: 10 infected: recovered: 23\n",
      "day: 11 infected: recovered: 47\n",
      "day: 12 infected: recovered: 84\n",
      "day: 13 infected: recovered: 152\n",
      "day: 14 infected: recovered: 281\n",
      "day: 15 infected: recovered: 459\n",
      "day: 16 infected: recovered: 673\n",
      "day: 17 infected: recovered: 855\n",
      "day: 18 infected: recovered: 1016\n",
      "day: 19 infected: recovered: 1105\n",
      "day: 20 infected: recovered: 1155\n",
      "day: 21 infected: recovered: 1176\n",
      "day: 22 infected: recovered: 1186\n",
      "day: 23 infected: recovered: 1192\n",
      "day: 24 infected: recovered: 1192\n",
      "day: 25 infected: recovered: 1193\n"
     ]
    }
   ],
   "source": [
    "##Build our Community\n",
    "\n",
    "myCommunity = Population(1200)\n",
    "day = 0\n",
    "number_infected = myCommunity.number_of_infected()\n",
    "while (number_infected > 0):\n",
    "    number_infected = myCommunity.number_of_infected()\n",
    "    number_recovered = myCommunity.number_of_recovered()\n",
    "    print(\"day:\", day, \"infected:\", \"recovered:\", number_recovered)\n",
    "    \n",
    "    day = day + 1\n",
    "    myCommunity.update()\n",
    "\n"
   ]
  },
  {
   "cell_type": "code",
   "execution_count": 92,
   "id": "6ad5b6a2-a1fa-424c-ab9f-0b0db56e531c",
   "metadata": {},
   "outputs": [
    {
     "name": "stdout",
     "output_type": "stream",
     "text": [
      "Population: 12001\n",
      "Number vac: 6000.0\n",
      "day: 0 infected: 1 vac+infected: 0 recovered: 0 dosis=1 1501 dosis=2 1500 dosis=3 3000\n",
      "day: 1 infected: 1 vac+infected: 0 recovered: 0 dosis=1 1501 dosis=2 1500 dosis=3 3000\n",
      "day: 2 infected: 2 vac+infected: 0 recovered: 0 dosis=1 1501 dosis=2 1500 dosis=3 3000\n",
      "day: 3 infected: 9 vac+infected: 0 recovered: 0 dosis=1 1501 dosis=2 1500 dosis=3 3000\n",
      "day: 4 infected: 17 vac+infected: 2 recovered: 0 dosis=1 1501 dosis=2 1500 dosis=3 3000\n",
      "day: 5 infected: 47 vac+infected: 7 recovered: 1 dosis=1 1501 dosis=2 1500 dosis=3 3000\n",
      "day: 6 infected: 118 vac+infected: 19 recovered: 1 dosis=1 1501 dosis=2 1500 dosis=3 3000\n",
      "day: 7 infected: 263 vac+infected: 48 recovered: 2 dosis=1 1501 dosis=2 1500 dosis=3 3000\n",
      "day: 8 infected: 552 vac+infected: 115 recovered: 9 dosis=1 1501 dosis=2 1500 dosis=3 3000\n",
      "day: 9 infected: 1165 vac+infected: 232 recovered: 17 dosis=1 1501 dosis=2 1500 dosis=3 3000\n",
      "day: 10 infected: 2229 vac+infected: 452 recovered: 48 dosis=1 1501 dosis=2 1500 dosis=3 3000\n",
      "day: 11 infected: 3822 vac+infected: 838 recovered: 119 dosis=1 1501 dosis=2 1500 dosis=3 3000\n",
      "day: 12 infected: 5663 vac+infected: 1437 recovered: 265 dosis=1 1501 dosis=2 1500 dosis=3 3000\n",
      "day: 13 infected: 7044 vac+infected: 2097 recovered: 561 dosis=1 1501 dosis=2 1500 dosis=3 3000\n",
      "day: 14 infected: 7452 vac+infected: 2584 recovered: 1182 dosis=1 1501 dosis=2 1500 dosis=3 3000\n",
      "day: 15 infected: 7015 vac+infected: 2895 recovered: 2277 dosis=1 1501 dosis=2 1500 dosis=3 3000\n",
      "day: 16 infected: 5762 vac+infected: 2869 recovered: 3941 dosis=1 1501 dosis=2 1500 dosis=3 3000\n",
      "day: 17 infected: 4050 vac+infected: 2501 recovered: 5928 dosis=1 1501 dosis=2 1500 dosis=3 3000\n",
      "day: 18 infected: 2520 vac+infected: 1917 recovered: 7605 dosis=1 1501 dosis=2 1500 dosis=3 3000\n",
      "day: 19 infected: 1586 vac+infected: 1405 recovered: 8634 dosis=1 1501 dosis=2 1500 dosis=3 3000\n",
      "day: 20 infected: 975 vac+infected: 915 recovered: 9292 dosis=1 1501 dosis=2 1500 dosis=3 3000\n",
      "day: 21 infected: 590 vac+infected: 568 recovered: 9703 dosis=1 1501 dosis=2 1500 dosis=3 3000\n",
      "day: 22 infected: 331 vac+infected: 324 recovered: 9978 dosis=1 1501 dosis=2 1500 dosis=3 3000\n",
      "day: 23 infected: 192 vac+infected: 189 recovered: 10125 dosis=1 1501 dosis=2 1500 dosis=3 3000\n",
      "day: 24 infected: 101 vac+infected: 99 recovered: 10220 dosis=1 1501 dosis=2 1500 dosis=3 3000\n",
      "day: 25 infected: 61 vac+infected: 60 recovered: 10267 dosis=1 1501 dosis=2 1500 dosis=3 3000\n",
      "day: 26 infected: 37 vac+infected: 37 recovered: 10293 dosis=1 1501 dosis=2 1500 dosis=3 3000\n",
      "day: 27 infected: 22 vac+infected: 22 recovered: 10309 dosis=1 1501 dosis=2 1500 dosis=3 3000\n",
      "day: 28 infected: 15 vac+infected: 15 recovered: 10317 dosis=1 1501 dosis=2 1500 dosis=3 3000\n",
      "day: 29 infected: 12 vac+infected: 12 recovered: 10321 dosis=1 1501 dosis=2 1500 dosis=3 3000\n",
      "day: 30 infected: 5 vac+infected: 5 recovered: 10328 dosis=1 1501 dosis=2 1500 dosis=3 3000\n",
      "day: 31 infected: 5 vac+infected: 5 recovered: 10330 dosis=1 1501 dosis=2 1500 dosis=3 3000\n",
      "day: 32 infected: 4 vac+infected: 4 recovered: 10331 dosis=1 1501 dosis=2 1500 dosis=3 3000\n",
      "day: 33 infected: 3 vac+infected: 3 recovered: 10332 dosis=1 1501 dosis=2 1500 dosis=3 3000\n",
      "day: 34 infected: 3 vac+infected: 3 recovered: 10333 dosis=1 1501 dosis=2 1500 dosis=3 3000\n",
      "day: 35 infected: 3 vac+infected: 3 recovered: 10333 dosis=1 1501 dosis=2 1500 dosis=3 3000\n",
      "day: 36 infected: 1 vac+infected: 1 recovered: 10335 dosis=1 1501 dosis=2 1500 dosis=3 3000\n",
      "day: 37 infected: 1 vac+infected: 1 recovered: 10335 dosis=1 1501 dosis=2 1500 dosis=3 3000\n",
      "day: 38 infected: 1 vac+infected: 1 recovered: 10335 dosis=1 1501 dosis=2 1500 dosis=3 3000\n",
      "day: 39 infected: 0 vac+infected: 0 recovered: 10336 dosis=1 1501 dosis=2 1500 dosis=3 3000\n"
     ]
    }
   ],
   "source": [
    "##Build our Community\n",
    "##number_of_people=1000, default_interactions=10, default_days_sick=5,\n",
    "##default_infection_rate=10, default_percentage_vac=0):\n",
    "\n",
    "myCommunity = Population(12000, 10, 5, 10, 50)\n",
    "print (\"Population:\",myCommunity.get_population_count())\n",
    "print (\"Number vac:\", myCommunity.get_number_vac())\n",
    "my_plot2 = []\n",
    "\n",
    "day = 0\n",
    "number_infected = myCommunity.number_of_infected()\n",
    "while (number_infected > 0):\n",
    "    number_infected = myCommunity.number_of_infected()\n",
    "    number_recovered = myCommunity.number_of_recovered()\n",
    "    people_vac = myCommunity.get_number_vac_infected()\n",
    "    people_one_vac = myCommunity.get_people_one_vac()\n",
    "    people_two_vac = myCommunity.get_people_two_vac()\n",
    "    people_three_vac = myCommunity.get_people_three_vac()\n",
    "    my_plot2.append([day, number_infected, number_recovered])\n",
    "    \n",
    "    print(\"day:\", day, \"infected:\", number_infected, \"vac+infected:\", \n",
    "          people_vac, \"recovered:\", number_recovered, \"dosis=1\", people_one_vac,\n",
    "         \"dosis=2\", people_two_vac, \"dosis=3\", people_three_vac)\n",
    "    \n",
    "    day = day + 1\n",
    "    myCommunity.update()"
   ]
  },
  {
   "cell_type": "code",
   "execution_count": 84,
   "id": "e5e3f1ad-d4b0-4b46-8ecd-375c2dd61f10",
   "metadata": {},
   "outputs": [],
   "source": [
    "import pandas as pd\n",
    "import matplotlib.pyplot as plt"
   ]
  },
  {
   "cell_type": "code",
   "execution_count": 89,
   "id": "8ee2d743-3cd4-495c-8cbc-0ac1727ed119",
   "metadata": {},
   "outputs": [],
   "source": [
    "df = pd.DataFrame(my_plot, columns=['day','number_infected', 'number_recovered'])"
   ]
  },
  {
   "cell_type": "code",
   "execution_count": 90,
   "id": "a5497412-4de3-4026-89ed-ea1b30c66f66",
   "metadata": {},
   "outputs": [
    {
     "data": {
      "image/png": "[encoded data removed]",
      "text/plain": [
       "<Figure size 432x288 with 1 Axes>"
      ]
     },
     "metadata": {
      "needs_background": "light"
     },
     "output_type": "display_data"
    }
   ],
   "source": [
    "fig = plt.figure()\n",
    "ax1 = plt.gca()\n",
    "fig1 = df.plot(kind='line', x='day', y='number_recovered', ax=ax1).get_figure()\n",
    "fig2 = df.plot(kind='line', x='day', y='number_infected', ax=ax1).get_figure()\n",
    "plt.savefig('test.png')\n",
    "plt.show()"
   ]
  },
  {
   "cell_type": "code",
   "execution_count": 94,
   "id": "49881e9c-8436-4600-a2f0-3896528627f5",
   "metadata": {},
   "outputs": [],
   "source": [
    "df2 = pd.DataFrame(my_plot2, columns=['day','number_infected', 'number_recovered'])"
   ]
  },
  {
   "cell_type": "code",
   "execution_count": null,
   "id": "36768435-4b75-4684-8743-1afea933e2c6",
   "metadata": {},
   "outputs": [],
   "source": []
  },
  {
   "cell_type": "code",
   "execution_count": 95,
   "id": "963f1133-50dd-43da-812c-d793cf2b8dc1",
   "metadata": {},
   "outputs": [
    {
     "data": {
      "image/png": "[encoded data removed]",
      "text/plain": [
       "<Figure size 432x288 with 1 Axes>"
      ]
     },
     "metadata": {
      "needs_background": "light"
     },
     "output_type": "display_data"
    }
   ],
   "source": [
    "fig = plt.figure()\n",
    "ax1 = plt.gca()\n",
    "fig1 = df2.plot(kind='line', x='day', y='number_recovered', ax=ax1).get_figure()\n",
    "fig2 = df2.plot(kind='line', x='day', y='number_infected', ax=ax1).get_figure()\n",
    "plt.savefig('test2.png')\n",
    "plt.show()"
   ]
  },
  {
   "cell_type": "code",
   "execution_count": 96,
   "id": "8ed07057-8e70-4cb5-85dd-a893cfd14790",
   "metadata": {},
   "outputs": [],
   "source": [
    "df.to_csv(\"mydata.csv\")\n",
    "df2.to_csv(\"mydata2.csv\")"
   ]
  },
  {
   "cell_type": "code",
   "execution_count": null,
   "id": "90076813-f3b6-440b-b68b-ae6c893a22f0",
   "metadata": {},
   "outputs": [],
   "source": []
  }
 ],
 "metadata": {
  "IMAGE_NAME": "taccsciapps/ds-nb-img:base-0.1.0",
  "UUID": "e7ea5304-7648-11ed-bbce-9aff3d7cd6d4",
  "kernelspec": {
   "display_name": "Python 3 (ipykernel)",
   "language": "python",
   "name": "python3"
  },
  "language_info": {
   "codemirror_mode": {
    "name": "ipython",
    "version": 3
   },
   "file_extension": ".py",
   "mimetype": "text/x-python",
   "name": "python",
   "nbconvert_exporter": "python",
   "pygments_lexer": "ipython3",
   "version": "3.9.10"
  }
 },
 "nbformat": 4,
 "nbformat_minor": 5
}
